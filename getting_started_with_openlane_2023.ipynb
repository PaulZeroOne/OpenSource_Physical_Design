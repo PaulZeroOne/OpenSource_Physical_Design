{
  "nbformat": 4,
  "nbformat_minor": 0,
  "metadata": {
    "colab": {
      "provenance": [],
      "authorship_tag": "ABX9TyNcK6lD9mShYRjA1EIAnyTY",
      "include_colab_link": true
    },
    "kernelspec": {
      "name": "python3",
      "display_name": "Python 3"
    },
    "language_info": {
      "name": "python"
    }
  },
  "cells": [
    {
      "cell_type": "markdown",
      "metadata": {
        "id": "view-in-github",
        "colab_type": "text"
      },
      "source": [
        "<a href=\"https://colab.research.google.com/github/PaulZeroOne/OpenSource_Physical_Design/blob/main/getting_started_with_openlane_2023.ipynb\" target=\"_parent\"><img src=\"https://colab.research.google.com/assets/colab-badge.svg\" alt=\"Open In Colab\"/></a>"
      ]
    },
    {
      "cell_type": "code",
      "execution_count": null,
      "metadata": {
        "id": "KiHmqBAEivYI"
      },
      "outputs": [],
      "source": [
        "openlane_version = 'latest' #@param {type:\"string\"}\n",
        "open_pdks_version = 'latest' #@param {type:\"string\"}\n",
        "\n",
        "if openlane_version == 'latest':\n",
        "  openlane_version = ''\n",
        "if open_pdks_version == 'latest':\n",
        "  open_pdks_version = ''\n",
        "\n",
        "import os\n",
        "import pathlib\n",
        "\n",
        "!curl -Ls https://micro.mamba.pm/api/micromamba/linux-64/latest | tar -xj bin/micromamba\n",
        "conda_prefix_path = pathlib.Path('conda-env')\n",
        "CONDA_PREFIX = str(conda_prefix_path.resolve())\n",
        "!bin/micromamba create --yes --prefix $CONDA_PREFIX\n",
        "!echo 'python ==3.7*' >> {CONDA_PREFIX}/conda-meta/pinned\n",
        "!CI=0 bin/micromamba install --yes --prefix $CONDA_PREFIX \\\n",
        "                     --channel litex-hub \\\n",
        "                     --channel main \\\n",
        "                     openlane={openlane_version} \\\n",
        "                     open_pdks.sky130a={open_pdks_version}\n",
        "!python -m pip install --no-binary gdstk gdstk\n",
        "PATH = os.environ['PATH']\n",
        "%env CONDA_PREFIX={CONDA_PREFIX}\n",
        "%env PATH={CONDA_PREFIX}/bin:{PATH}"
      ]
    },
    {
      "cell_type": "code",
      "source": [
        "%%writefile top_module.v\n",
        "module inverter(input wire in, output wire out);\n",
        "    assign out = !in;\n",
        "endmodule"
      ],
      "metadata": {
        "id": "QjevBL1Ni4kT"
      },
      "execution_count": null,
      "outputs": []
    },
    {
      "cell_type": "code",
      "source": [
        "%%writefile config.json\n",
        "{\n",
        "    \"DESIGN_NAME\": \"inverter\",\n",
        "    \"VERILOG_FILES\": \"dir::inverter.v\",\n",
        "    \"CLOCK_TREE_SYNTH\": false,\n",
        "    \"CLOCK_PORT\": null,\n",
        "    \"PL_RANDOM_GLB_PLACEMENT\": true,\n",
        "    \"FP_SIZING\": \"absolute\",\n",
        "    \"DIE_AREA\": \"0 0 34.5 57.12\",\n",
        "    \"PL_TARGET_DENSITY\": 0.75,\n",
        "    \"FP_PDN_AUTO_ADJUST\": false,\n",
        "    \"FP_PDN_VPITCH\": 25,\n",
        "    \"FP_PDN_HPITCH\": 25,\n",
        "    \"FP_PDN_VOFFSET\": 5,\n",
        "    \"FP_PDN_HOFFSET\": 5,\n",
        "    \"DIODE_INSERTION_STRATEGY\": 3\n",
        "}"
      ],
      "metadata": {
        "id": "vOoA51HfjGw6"
      },
      "execution_count": null,
      "outputs": []
    },
    {
      "cell_type": "code",
      "source": [
        "# SYNTHESIS\n",
        "%env PDK=sky130A\n",
        "!flow.tcl -design . -to synthesis"
      ],
      "metadata": {
        "id": "NZHGDocAjKoy"
      },
      "execution_count": null,
      "outputs": []
    },
    {
      "cell_type": "code",
      "source": [
        "# VIEW SYNTHESIS\n",
        "import graphviz\n",
        "import pathlib\n",
        "\n",
        "dot = sorted(pathlib.Path('runs').glob('*/tmp/synthesis/post_techmap.dot'))\n",
        "graphviz.Source.from_file(dot[-1])"
      ],
      "metadata": {
        "id": "DxnjE_IMjORH"
      },
      "execution_count": null,
      "outputs": []
    },
    {
      "cell_type": "code",
      "source": [
        "%env PDK=sky130A\n",
        "!flow.tcl -design ."
      ],
      "metadata": {
        "id": "JCT_0efSlOl8"
      },
      "execution_count": null,
      "outputs": []
    },
    {
      "cell_type": "code",
      "source": [
        "import pathlib\n",
        "import gdstk\n",
        "import IPython.display\n",
        "\n",
        "gdss = sorted(pathlib.Path('runs').glob('*/results/final/gds/*.gds'))\n",
        "library = gdstk.read_gds(gdss[-1])\n",
        "top_cells = library.top_level()\n",
        "top_cells[0].write_svg('inverter.svg')\n",
        "IPython.display.SVG('inverter.svg')"
      ],
      "metadata": {
        "id": "78_dUrYrlOri"
      },
      "execution_count": null,
      "outputs": []
    },
    {
      "cell_type": "code",
      "source": [
        "import pandas as pd\n",
        "import pathlib\n",
        "\n",
        "pd.options.display.max_rows = None\n",
        "reports = sorted(pathlib.Path('runs').glob('*/reports/metrics.csv'))\n",
        "df = pd.read_csv(reports[-1])\n",
        "df.transpose()"
      ],
      "metadata": {
        "id": "zT-AiBnwlZBs"
      },
      "execution_count": null,
      "outputs": []
    }
  ]
}